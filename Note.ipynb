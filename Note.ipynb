{
 "cells": [
  {
   "cell_type": "markdown",
   "metadata": {},
   "source": [
    "## Machine Learning"
   ]
  },
  {
   "cell_type": "markdown",
   "metadata": {},
   "source": [
    "Machine learning (ML) is a branch of artificial intelligence (AI) that enables computers to learn from data and make predictions or decisions without being explicitly programmed. Instead of following hardcoded rules, ML algorithms analyze patterns in data and improve their performance over time.\n",
    "\n",
    "### Types of Machine Learning\n",
    "\n",
    "#### 01. Supervised Learning\n",
    "The model is trained on labeled data (i.e., input-output pairs).\n",
    "\n",
    "- Linear Regression\n",
    "- Decision Trees\n",
    "- Support Vector Machines (SVM)\n",
    "- K-Nearest Neighbours (KNN)\n",
    "- Naive Bayes\n",
    "- Decision Tree\n",
    "- Random Forest\n",
    "\n",
    "#### 02. Unsupervised Learning\n",
    "The model is trained on unlabeled data (Not define Outputs) and tries to find patterns or structures.\n",
    "\n",
    "##### Clustering:\n",
    "- K-Means Clustering\n",
    "- Hierarchical Clustering\n",
    "- Principal Component Analysis (PCA)\n",
    "- Singular Value Decomposition (SVD)\n",
    "- Independent Component Analysis (ICA)\n",
    "####  03. Rainforcement Learning\n",
    "The model learns by interacting with an environment and receiving rewards or penalties.\n",
    "Ex: Teaching a robot to walk.\n",
    "\n",
    "## Machine Learning Workflow\n",
    "\n",
    "1. **Data Collection** – Gather relevant data from sources.\n",
    "2. **Data Preprocessing** – Clean, normalize, and prepare data.\n",
    "3. **Feature Engineering** – Select or create useful features.\n",
    "4. **Model Selection** – Choose an appropriate algorithm.\n",
    "5. **Training** – Feed data into the model to learn patterns.\n",
    "6. **Evaluation** – Measure model performance using metrics like accuracy or F1-score.\n",
    "7. **Deployment** – Use the trained model for real-world predictions.\n",
    "8. **Monitoring & Improvement** – Update and refine the model as needed.\n",
    "\n",
    "\n"
   ]
  }
 ],
 "metadata": {
  "language_info": {
   "name": "python"
  }
 },
 "nbformat": 4,
 "nbformat_minor": 2
}
